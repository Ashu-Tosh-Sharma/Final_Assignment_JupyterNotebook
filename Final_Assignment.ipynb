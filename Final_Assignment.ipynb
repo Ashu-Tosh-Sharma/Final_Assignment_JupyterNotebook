{
  "metadata": {
    "language_info": {
      "codemirror_mode": {
        "name": "python",
        "version": 3
      },
      "file_extension": ".py",
      "mimetype": "text/x-python",
      "name": "python",
      "nbconvert_exporter": "python",
      "pygments_lexer": "ipython3",
      "version": "3.8"
    },
    "kernelspec": {
      "name": "python",
      "display_name": "Pyolite",
      "language": "python"
    }
  },
  "nbformat_minor": 4,
  "nbformat": 4,
  "cells": [
    {
      "cell_type": "markdown",
      "source": "<h1> My Jupyter Notebook on IBM Watson Studio </h1>",
      "metadata": {}
    },
    {
      "cell_type": "markdown",
      "source": "<b>Ashutosh Sharma</b> <br>\nBusiness Intelligence Officer",
      "metadata": {}
    },
    {
      "cell_type": "markdown",
      "source": "<i> I am interested in Data Science because I enjoy working with data including analyzing data, finding patterns and discovering insights that have real world benefits. I am also interested in AI and the potential impact it will have on our society. </i>",
      "metadata": {}
    },
    {
      "cell_type": "markdown",
      "source": "<h3> The following code is meant to prove the Pythagorean Theorum </h3>",
      "metadata": {}
    },
    {
      "cell_type": "code",
      "source": "A = 6\nB = 8\nC = 10\nprint(pow(C, 2))\nprint(pow(A,2) + pow(B, 2))",
      "metadata": {
        "trusted": true
      },
      "execution_count": 11,
      "outputs": [
        {
          "name": "stdout",
          "text": "100\n100\n",
          "output_type": "stream"
        }
      ]
    },
    {
      "cell_type": "markdown",
      "source": "<a href=\"https://www.w3schools.com/python/python_variables.asp\"> Declaring variables in Python </a>\n\n<img src=\"https://images.ctfassets.net/mrop88jh71hl/55rrbZfwMaURHZKAUc5oOW/9e5fe805eb03135b82e962e92169ce6d/python-programming-language.png\" alt = \"Python Logo\" width = 400 height = 600 >\n\n<ol> <li>Python</li><li>R</li><li>SQL</li> </ol>",
      "metadata": {}
    },
    {
      "cell_type": "code",
      "source": "",
      "metadata": {},
      "execution_count": null,
      "outputs": []
    }
  ]
}